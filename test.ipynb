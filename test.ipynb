{
 "cells": [
  {
   "cell_type": "code",
   "execution_count": 20,
   "metadata": {},
   "outputs": [
    {
     "data": {
      "text/plain": [
       "True"
      ]
     },
     "execution_count": 20,
     "metadata": {},
     "output_type": "execute_result"
    }
   ],
   "source": [
    "from openai import OpenAI\n",
    "import openai\n",
    "\n",
    "from dotenv import  load_dotenv\n",
    "import os\n",
    "\n",
    "load_dotenv()"
   ]
  },
  {
   "cell_type": "code",
   "execution_count": 21,
   "metadata": {},
   "outputs": [
    {
     "data": {
      "text/plain": [
       "'1.2.4'"
      ]
     },
     "execution_count": 21,
     "metadata": {},
     "output_type": "execute_result"
    }
   ],
   "source": [
    "openai.__version__"
   ]
  },
  {
   "cell_type": "code",
   "execution_count": 9,
   "metadata": {},
   "outputs": [],
   "source": [
    "client = OpenAI(api_key=os.getenv(\"OPENAI_API_KEY\"))"
   ]
  },
  {
   "cell_type": "code",
   "execution_count": 15,
   "metadata": {},
   "outputs": [],
   "source": [
    "stream = client.chat.completions.create(\n",
    "    model=\"gpt-3.5-turbo\",\n",
    "    messages=[{\"role\": \"user\", \"content\": \"Say this is a test\"}],\n",
    "    stream=True,\n",
    ")"
   ]
  },
  {
   "cell_type": "code",
   "execution_count": 11,
   "metadata": {},
   "outputs": [
    {
     "name": "stdout",
     "output_type": "stream",
     "text": [
      "This is a test."
     ]
    }
   ],
   "source": [
    "for chunk in stream:\n",
    "    if chunk.choices[0].delta.content is not None:\n",
    "        print(chunk.choices[0].delta.content, end=\"\")"
   ]
  },
  {
   "cell_type": "code",
   "execution_count": 16,
   "metadata": {},
   "outputs": [
    {
     "name": "stdout",
     "output_type": "stream",
     "text": [
      "<class 'openai.Stream'>\n",
      "ChatCompletionChunk(id='chatcmpl-8WL96AY1dEDjqvsOq77HykmIXGzwP', choices=[Choice(delta=ChoiceDelta(content='', function_call=None, role='assistant', tool_calls=None), finish_reason=None, index=0, logprobs=None)], created=1702718472, model='gpt-3.5-turbo-0613', object='chat.completion.chunk', system_fingerprint=None)\n",
      "ChatCompletionChunk(id='chatcmpl-8WL96AY1dEDjqvsOq77HykmIXGzwP', choices=[Choice(delta=ChoiceDelta(content='This', function_call=None, role=None, tool_calls=None), finish_reason=None, index=0, logprobs=None)], created=1702718472, model='gpt-3.5-turbo-0613', object='chat.completion.chunk', system_fingerprint=None)\n",
      "ChatCompletionChunk(id='chatcmpl-8WL96AY1dEDjqvsOq77HykmIXGzwP', choices=[Choice(delta=ChoiceDelta(content=' is', function_call=None, role=None, tool_calls=None), finish_reason=None, index=0, logprobs=None)], created=1702718472, model='gpt-3.5-turbo-0613', object='chat.completion.chunk', system_fingerprint=None)\n",
      "ChatCompletionChunk(id='chatcmpl-8WL96AY1dEDjqvsOq77HykmIXGzwP', choices=[Choice(delta=ChoiceDelta(content=' a', function_call=None, role=None, tool_calls=None), finish_reason=None, index=0, logprobs=None)], created=1702718472, model='gpt-3.5-turbo-0613', object='chat.completion.chunk', system_fingerprint=None)\n",
      "ChatCompletionChunk(id='chatcmpl-8WL96AY1dEDjqvsOq77HykmIXGzwP', choices=[Choice(delta=ChoiceDelta(content=' test', function_call=None, role=None, tool_calls=None), finish_reason=None, index=0, logprobs=None)], created=1702718472, model='gpt-3.5-turbo-0613', object='chat.completion.chunk', system_fingerprint=None)\n",
      "ChatCompletionChunk(id='chatcmpl-8WL96AY1dEDjqvsOq77HykmIXGzwP', choices=[Choice(delta=ChoiceDelta(content='.', function_call=None, role=None, tool_calls=None), finish_reason=None, index=0, logprobs=None)], created=1702718472, model='gpt-3.5-turbo-0613', object='chat.completion.chunk', system_fingerprint=None)\n",
      "ChatCompletionChunk(id='chatcmpl-8WL96AY1dEDjqvsOq77HykmIXGzwP', choices=[Choice(delta=ChoiceDelta(content=None, function_call=None, role=None, tool_calls=None), finish_reason='stop', index=0, logprobs=None)], created=1702718472, model='gpt-3.5-turbo-0613', object='chat.completion.chunk', system_fingerprint=None)\n"
     ]
    }
   ],
   "source": [
    "print(type(stream))\n",
    "\n",
    "for chunk in stream:\n",
    "    print(chunk)"
   ]
  },
  {
   "cell_type": "code",
   "execution_count": null,
   "metadata": {},
   "outputs": [],
   "source": []
  }
 ],
 "metadata": {
  "kernelspec": {
   "display_name": "langchain_app",
   "language": "python",
   "name": "python3"
  },
  "language_info": {
   "codemirror_mode": {
    "name": "ipython",
    "version": 3
   },
   "file_extension": ".py",
   "mimetype": "text/x-python",
   "name": "python",
   "nbconvert_exporter": "python",
   "pygments_lexer": "ipython3",
   "version": "3.11.4"
  }
 },
 "nbformat": 4,
 "nbformat_minor": 2
}
